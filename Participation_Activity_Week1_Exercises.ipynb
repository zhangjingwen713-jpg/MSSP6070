{
  "cells": [
    {
      "cell_type": "markdown",
      "metadata": {
        "id": "view-in-github",
        "colab_type": "text"
      },
      "source": [
        "<a href=\"https://colab.research.google.com/github/zhangjingwen713-jpg/MSSP6070/blob/main/Participation_Activity_Week1_Exercises.ipynb\" target=\"_parent\"><img src=\"https://colab.research.google.com/assets/colab-badge.svg\" alt=\"Open In Colab\"/></a>"
      ]
    },
    {
      "cell_type": "markdown",
      "metadata": {
        "id": "JCwTiCG7sETB"
      },
      "source": [
        "# Coding exercises\n",
        "Exercises 1-3 are thought exercises that don't require coding.\n",
        "\n",
        "1. Explore the Jupyter Lab interface and look at some of the shortcuts available. Don't worry about memorizing them now (eventually they will become second nature and save you a lot of time), just get comfortable using notebooks.\n",
        "\n",
        "2. Are all data normally distributed?\n",
        "\n",
        "3. When would it make more sense to use the median instead of the mean for the measure of center?"
      ]
    },
    {
      "cell_type": "markdown",
      "metadata": {
        "id": "RWVN533esETC"
      },
      "source": [
        "## Exercise 4: Generate the data by running this cell\n",
        "This will give you a list of numbers to work with in the remaining exercises."
      ]
    },
    {
      "cell_type": "code",
      "execution_count": null,
      "metadata": {
        "colab": {
          "base_uri": "https://localhost:8080/"
        },
        "id": "fwkl78ORsETC",
        "outputId": "70eed022-7c2a-4934-be25-6e7a9b42cc39"
      },
      "outputs": [
        {
          "output_type": "stream",
          "name": "stdout",
          "text": [
            "[844000.0, 758000.0, 421000.0, 259000.0, 511000.0, 405000.0, 784000.0, 303000.0, 477000.0, 583000.0, 908000.0, 505000.0, 282000.0, 756000.0, 618000.0, 251000.0, 910000.0, 983000.0, 810000.0, 902000.0, 310000.0, 730000.0, 899000.0, 684000.0, 472000.0, 101000.0, 434000.0, 611000.0, 913000.0, 967000.0, 477000.0, 865000.0, 260000.0, 805000.0, 549000.0, 14000.0, 720000.0, 399000.0, 825000.0, 668000.0, 1000.0, 494000.0, 868000.0, 244000.0, 325000.0, 870000.0, 191000.0, 568000.0, 239000.0, 968000.0, 803000.0, 448000.0, 80000.0, 320000.0, 508000.0, 933000.0, 109000.0, 551000.0, 707000.0, 547000.0, 814000.0, 540000.0, 964000.0, 603000.0, 588000.0, 445000.0, 596000.0, 385000.0, 576000.0, 290000.0, 189000.0, 187000.0, 613000.0, 657000.0, 477000.0, 90000.0, 758000.0, 877000.0, 923000.0, 842000.0, 898000.0, 923000.0, 541000.0, 391000.0, 705000.0, 276000.0, 812000.0, 849000.0, 895000.0, 590000.0, 950000.0, 580000.0, 451000.0, 660000.0, 996000.0, 917000.0, 793000.0, 82000.0, 613000.0, 486000.0]\n"
          ]
        }
      ],
      "source": [
        "import random\n",
        "random.seed(0)\n",
        "salaries = [round(random.random()*1000000, -3) for _ in range(100)]\n",
        "print(list(salaries))"
      ]
    },
    {
      "cell_type": "markdown",
      "metadata": {
        "id": "M4dMiaLesETD"
      },
      "source": [
        "## Exercise 5: Calculating statistics and verifying\n",
        "\n",
        "Use the data generated above to calulate in code the following statistics without importing the statistics module. Then use the statistics module to verify your results.  Import the statistics module from https://docs.python.org/3/library/statistics.html\n",
        "\n",
        "### mean"
      ]
    },
    {
      "cell_type": "code",
      "execution_count": null,
      "metadata": {
        "colab": {
          "base_uri": "https://localhost:8080/"
        },
        "id": "OqPOjhd6sETD",
        "outputId": "13eb07cf-d2a7-4801-9b24-50a15d846688"
      },
      "outputs": [
        {
          "output_type": "execute_result",
          "data": {
            "text/plain": [
              "True"
            ]
          },
          "metadata": {},
          "execution_count": 3
        }
      ],
      "source": [
        "from statistics import mean\n",
        "sum (salaries)/len(salaries) == mean(salaries)"
      ]
    },
    {
      "cell_type": "markdown",
      "metadata": {
        "id": "EnoyQQzIsETD"
      },
      "source": [
        "### median"
      ]
    },
    {
      "cell_type": "code",
      "execution_count": 5,
      "metadata": {
        "id": "UqQhRhXfsETD",
        "colab": {
          "base_uri": "https://localhost:8080/"
        },
        "outputId": "17554ef3-6f09-42f1-acf4-4f58be7eeb96"
      },
      "outputs": [
        {
          "output_type": "stream",
          "name": "stdout",
          "text": [
            "Manual median: 589000.0\n",
            "Statistics module median: 589000.0\n",
            "Manual median == Statistics module median: True\n"
          ]
        }
      ],
      "source": [
        "from statistics import median\n",
        "\n",
        "# Calculate median manually\n",
        "sorted_salaries = sorted(salaries)\n",
        "n = len(sorted_salaries)\n",
        "if n % 2 == 0:\n",
        "    # If the number of elements is even, the median is the average of the two middle elements\n",
        "    median_manual = (sorted_salaries[n//2 - 1] + sorted_salaries[n//2]) / 2\n",
        "else:\n",
        "    # If the number of elements is odd, the median is the middle element\n",
        "    median_manual = sorted_salaries[n//2]\n",
        "\n",
        "# Calculate median using statistics module\n",
        "median_stats = median(salaries)\n",
        "\n",
        "# Verify the results\n",
        "print(f\"Manual median: {median_manual}\")\n",
        "print(f\"Statistics module median: {median_stats}\")\n",
        "print(f\"Manual median == Statistics module median: {median_manual == median_stats}\")"
      ]
    },
    {
      "cell_type": "markdown",
      "metadata": {
        "id": "5U_eG9_xsETE"
      },
      "source": [
        "### mode"
      ]
    },
    {
      "cell_type": "code",
      "execution_count": 6,
      "metadata": {
        "id": "XIR3cBbwsETE",
        "colab": {
          "base_uri": "https://localhost:8080/"
        },
        "outputId": "96975667-602c-4dbd-981f-cf19bc7304d4"
      },
      "outputs": [
        {
          "output_type": "stream",
          "name": "stdout",
          "text": [
            "Manual mode: 477000.0\n",
            "Statistics module mode: 477000.0\n",
            "Manual mode == Statistics module mode: True\n"
          ]
        }
      ],
      "source": [
        "from statistics import mode\n",
        "\n",
        "# Calculate mode manually\n",
        "frequency = {}\n",
        "for value in salaries:\n",
        "    frequency[value] = frequency.get(value, 0) + 1\n",
        "\n",
        "mode_manual = None\n",
        "max_freq = 0\n",
        "for value, freq in frequency.items():\n",
        "    if freq > max_freq:\n",
        "        max_freq = freq\n",
        "        mode_manual = value\n",
        "    # Handle multiple modes if necessary - currently just picks one\n",
        "    # if freq == max_freq:\n",
        "    #     modes.append(value)\n",
        "\n",
        "\n",
        "# Calculate mode using statistics module\n",
        "mode_stats = mode(salaries)\n",
        "\n",
        "# Verify the results\n",
        "print(f\"Manual mode: {mode_manual}\")\n",
        "print(f\"Statistics module mode: {mode_stats}\")\n",
        "print(f\"Manual mode == Statistics module mode: {mode_manual == mode_stats}\")"
      ]
    },
    {
      "cell_type": "markdown",
      "metadata": {
        "id": "gMBIhR8SsETE"
      },
      "source": [
        "### sample variance\n",
        "Remember to use Bessel's correction."
      ]
    },
    {
      "cell_type": "code",
      "execution_count": 7,
      "metadata": {
        "id": "pFPgP1L2sETE",
        "colab": {
          "base_uri": "https://localhost:8080/"
        },
        "outputId": "3080f7ac-cf4b-475d-f72d-ff232d141de1"
      },
      "outputs": [
        {
          "output_type": "stream",
          "name": "stdout",
          "text": [
            "Manual sample variance: 70664054444.44444\n",
            "Statistics module sample variance: 70664054444.44444\n",
            "Manual sample variance == Statistics module sample variance: True\n"
          ]
        }
      ],
      "source": [
        "from statistics import variance\n",
        "\n",
        "# Calculate sample variance manually (with Bessel's correction)\n",
        "mean_salaries = sum(salaries) / len(salaries)\n",
        "sum_squared_diff = sum([(x - mean_salaries) ** 2 for x in salaries])\n",
        "sample_variance_manual = sum_squared_diff / (len(salaries) - 1)\n",
        "\n",
        "# Calculate sample variance using statistics module\n",
        "sample_variance_stats = variance(salaries)\n",
        "\n",
        "# Verify the results\n",
        "print(f\"Manual sample variance: {sample_variance_manual}\")\n",
        "print(f\"Statistics module sample variance: {sample_variance_stats}\")\n",
        "print(f\"Manual sample variance == Statistics module sample variance: {sample_variance_manual == sample_variance_stats}\")"
      ]
    },
    {
      "cell_type": "markdown",
      "metadata": {
        "id": "srJl7D7qsETE"
      },
      "source": [
        "### sample standard deviation\n",
        "Remember to use Bessel's correction."
      ]
    },
    {
      "cell_type": "code",
      "execution_count": 8,
      "metadata": {
        "id": "alozqBTMsETE",
        "colab": {
          "base_uri": "https://localhost:8080/"
        },
        "outputId": "f153de2d-cd5f-4b6e-a13f-d1f58a0a40f0"
      },
      "outputs": [
        {
          "output_type": "stream",
          "name": "stdout",
          "text": [
            "Manual sample standard deviation: 265827.11382484\n",
            "Statistics module sample standard deviation: 265827.11382484\n",
            "Manual sample standard deviation == Statistics module sample standard deviation: True\n"
          ]
        }
      ],
      "source": [
        "from statistics import stdev\n",
        "\n",
        "# Calculate sample standard deviation manually (with Bessel's correction)\n",
        "# We can reuse the sample_variance_manual calculated in the previous cell\n",
        "sample_stdev_manual = sample_variance_manual**0.5\n",
        "\n",
        "# Calculate sample standard deviation using statistics module\n",
        "sample_stdev_stats = stdev(salaries)\n",
        "\n",
        "# Verify the results\n",
        "print(f\"Manual sample standard deviation: {sample_stdev_manual}\")\n",
        "print(f\"Statistics module sample standard deviation: {sample_stdev_stats}\")\n",
        "print(f\"Manual sample standard deviation == Statistics module sample standard deviation: {sample_stdev_manual == sample_stdev_stats}\")"
      ]
    },
    {
      "cell_type": "markdown",
      "metadata": {
        "id": "NJgnTa3BsETE"
      },
      "source": [
        "## Exercise 6: Calculating more statistics\n",
        "### range"
      ]
    },
    {
      "cell_type": "code",
      "execution_count": 9,
      "metadata": {
        "id": "N0Ja2BRksETE",
        "colab": {
          "base_uri": "https://localhost:8080/"
        },
        "outputId": "cd54442b-d9e9-4944-b840-304f96f72002"
      },
      "outputs": [
        {
          "output_type": "stream",
          "name": "stdout",
          "text": [
            "Range: 995000.0\n"
          ]
        }
      ],
      "source": [
        "# Calculate range\n",
        "range_salaries = max(salaries) - min(salaries)\n",
        "\n",
        "print(f\"Range: {range_salaries}\")"
      ]
    },
    {
      "cell_type": "markdown",
      "metadata": {
        "id": "w5OAGl0UsETF"
      },
      "source": [
        "### coefficient of variation"
      ]
    },
    {
      "cell_type": "code",
      "execution_count": 10,
      "metadata": {
        "id": "sv-y9EexsETF",
        "colab": {
          "base_uri": "https://localhost:8080/"
        },
        "outputId": "c441d0d4-5b9d-4772-ed0a-7fc11abf41ba"
      },
      "outputs": [
        {
          "output_type": "stream",
          "name": "stdout",
          "text": [
            "Coefficient of Variation: 45.39%\n"
          ]
        }
      ],
      "source": [
        "# Calculate the coefficient of variation\n",
        "# Coefficient of Variation (CV) = (Standard Deviation / Mean) * 100\n",
        "# We can use the previously calculated sample_stdev_manual and mean_salaries\n",
        "coefficient_of_variation = (sample_stdev_manual / mean_salaries) * 100\n",
        "\n",
        "print(f\"Coefficient of Variation: {coefficient_of_variation:.2f}%\")"
      ]
    },
    {
      "cell_type": "markdown",
      "metadata": {
        "id": "7Rr8IwfZsETF"
      },
      "source": [
        "### interquartile range"
      ]
    },
    {
      "cell_type": "code",
      "execution_count": 11,
      "metadata": {
        "id": "Q7J7eAOusETF",
        "colab": {
          "base_uri": "https://localhost:8080/"
        },
        "outputId": "c6264bca-c30d-4586-e036-be251eba47f8"
      },
      "outputs": [
        {
          "output_type": "stream",
          "name": "stdout",
          "text": [
            "Interquartile Range (IQR): 413250.0\n"
          ]
        }
      ],
      "source": [
        "import numpy as np\n",
        "\n",
        "# Calculate the first quartile (Q1)\n",
        "q1 = np.percentile(salaries, 25)\n",
        "\n",
        "# Calculate the third quartile (Q3)\n",
        "q3 = np.percentile(salaries, 75)\n",
        "\n",
        "# Calculate the interquartile range (IQR)\n",
        "iqr = q3 - q1\n",
        "\n",
        "print(f\"Interquartile Range (IQR): {iqr}\")"
      ]
    },
    {
      "cell_type": "markdown",
      "metadata": {
        "id": "UKVIC4VFsETF"
      },
      "source": [
        "### quartile coefficent of dispersion"
      ]
    },
    {
      "cell_type": "code",
      "execution_count": 12,
      "metadata": {
        "id": "C3oLsxg-sETF",
        "colab": {
          "base_uri": "https://localhost:8080/"
        },
        "outputId": "a3c6e8aa-6b4a-4990-ea5d-d3a0d2b87500"
      },
      "outputs": [
        {
          "output_type": "stream",
          "name": "stdout",
          "text": [
            "Quartile Coefficient of Dispersion: 0.34\n"
          ]
        }
      ],
      "source": [
        "# Calculate the quartile coefficient of dispersion (QCD)\n",
        "# QCD = (Q3 - Q1) / (Q3 + Q1)\n",
        "# We can use the previously calculated q1 and q3\n",
        "quartile_coefficient_of_dispersion = (q3 - q1) / (q3 + q1)\n",
        "\n",
        "print(f\"Quartile Coefficient of Dispersion: {quartile_coefficient_of_dispersion:.2f}\")"
      ]
    },
    {
      "cell_type": "markdown",
      "metadata": {
        "id": "hITle5KbsETF"
      },
      "source": [
        "## Exercise 7: Scaling data\n",
        "### min-max scaling"
      ]
    },
    {
      "cell_type": "code",
      "execution_count": 13,
      "metadata": {
        "id": "m3iz1hrZsETF",
        "colab": {
          "base_uri": "https://localhost:8080/"
        },
        "outputId": "7cc18913-7ccc-4127-fc10-d04091f858e3"
      },
      "outputs": [
        {
          "output_type": "stream",
          "name": "stdout",
          "text": [
            "Min-Max Scaled Salaries:\n",
            "[0.8472361809045226, 0.7608040201005025, 0.4221105527638191, 0.2592964824120603, 0.5125628140703518, 0.40603015075376886, 0.7869346733668342, 0.3035175879396985, 0.47839195979899496, 0.5849246231155779, 0.9115577889447236, 0.5065326633165829, 0.28241206030150756, 0.7587939698492462, 0.6201005025125628, 0.25125628140703515, 0.91356783919598, 0.9869346733668342, 0.8130653266331658, 0.9055276381909547, 0.31055276381909547, 0.7326633165829146, 0.9025125628140703, 0.6864321608040201, 0.4733668341708543, 0.10050251256281408, 0.43517587939698493, 0.6130653266331658, 0.9165829145728643, 0.9708542713567839, 0.47839195979899496, 0.8683417085427135, 0.26030150753768844, 0.8080402010050252, 0.5507537688442211, 0.01306532663316583, 0.7226130653266332, 0.4, 0.828140703517588, 0.6703517587939698, 0.0, 0.49547738693467336, 0.871356783919598, 0.2442211055276382, 0.3256281407035176, 0.8733668341708543, 0.19095477386934673, 0.5698492462311557, 0.23919597989949748, 0.9718592964824121, 0.8060301507537688, 0.4492462311557789, 0.07939698492462312, 0.32060301507537686, 0.5095477386934674, 0.9366834170854271, 0.10854271356783919, 0.5527638190954773, 0.7095477386934673, 0.5487437185929648, 0.8170854271356784, 0.5417085427135678, 0.9678391959798995, 0.6050251256281407, 0.5899497487437186, 0.4462311557788945, 0.5979899497487438, 0.385929648241206, 0.5778894472361809, 0.2904522613065327, 0.18894472361809045, 0.18693467336683417, 0.6150753768844222, 0.6592964824120603, 0.47839195979899496, 0.08944723618090453, 0.7608040201005025, 0.8804020100502512, 0.9266331658291457, 0.8452261306532663, 0.9015075376884422, 0.9266331658291457, 0.542713567839196, 0.39195979899497485, 0.7075376884422111, 0.27638190954773867, 0.8150753768844221, 0.8522613065326633, 0.8984924623115578, 0.5919597989949749, 0.9537688442211055, 0.5819095477386935, 0.45226130653266333, 0.6623115577889447, 1.0, 0.9206030150753769, 0.7959798994974875, 0.0814070351758794, 0.6150753768844222, 0.48743718592964824]\n"
          ]
        }
      ],
      "source": [
        "# Perform min-max scaling\n",
        "min_salary = min(salaries)\n",
        "max_salary = max(salaries)\n",
        "min_max_scaled_salaries = [(x - min_salary) / (max_salary - min_salary) for x in salaries]\n",
        "\n",
        "print(\"Min-Max Scaled Salaries:\")\n",
        "print(min_max_scaled_salaries)"
      ]
    },
    {
      "cell_type": "markdown",
      "metadata": {
        "id": "i2SPIVHesETF"
      },
      "source": [
        "### standardizing"
      ]
    },
    {
      "cell_type": "code",
      "execution_count": 14,
      "metadata": {
        "id": "kNyouqsWsETF",
        "colab": {
          "base_uri": "https://localhost:8080/"
        },
        "outputId": "c43726b5-7fd4-4759-c64c-69be67ab10ed"
      },
      "outputs": [
        {
          "output_type": "stream",
          "name": "stdout",
          "text": [
            "Standardized Salaries:\n",
            "[0.9717217942267801, 0.6482032533127501, -0.6195380058503674, -1.228956652688424, -0.28097209094033604, -0.6797275018343729, 0.7460111842867592, -1.0634355387324086, -0.40887476990634786, -0.010119359012310937, 1.2124797781628023, -0.3035431519343381, -1.142434252211416, 0.6406795663147493, 0.12154516345270126, -1.2590514006804265, 1.220003465160803, 1.4946180405878284, 0.8438191152607681, 1.1899087171688003, -1.037102634239406, 0.5428716353407403, 1.178623186671799, 0.36982683438672426, -0.4276839874013496, -1.8233279255304788, -0.5706340403633628, 0.09521225895969881, 1.2312889956578041, 1.434428544603823, -0.40887476990634786, 1.0507205077057873, -1.2251948091894236, 0.8250098977657664, -0.1380220379783228, -2.150608309943509, 0.5052532003507368, -0.7022985628283751, 0.9002467677457734, 0.3096373384027187, -2.199512275430514, -0.34492343042334195, 1.0620060382027885, -1.285384305173429, -0.9806749817544008, 1.0695297252007891, -1.4847620106204475, -0.06654701149731616, -1.304193522668431, 1.4381903881028233, 0.8174862107677657, -0.517968231377358, -1.9023266390094862, -0.9994841992494026, -0.2922576214373371, 1.3065258656378111, -1.7932331775384762, -0.1304983509803221, 0.4563492348637323, -0.14554572497632348, 0.8588664892567696, -0.17187862946932592, 1.4231430141068218, 0.06511751096769604, 0.008689858482690806, -0.529253761874359, 0.038784606474693596, -0.7549643718143799, -0.03645226350531338, -1.112339504219413, -1.4922856976184482, -1.4998093846164489, 0.10273594595769951, 0.26825705991371485, -0.40887476990634786, -1.8647082040194827, 0.6482032533127501, 1.0958626296937914, 1.2689074306478076, 0.9641981072287793, 1.1748613431727988, 1.2689074306478076, -0.16811678597032556, -0.7323933108203778, 0.4488255478657316, -1.165005313205418, 0.8513428022587689, 0.9905310117217818, 1.1635758126757978, 0.016213545480691503, 1.370477205120817, -0.02140488950931198, -0.5066827008803569, 0.2795425904107159, 1.543522006074833, 1.2463363696538055, 0.7798677757777622, -1.8948029520114855, 0.10273594595769951, -0.37501817841534474]\n"
          ]
        }
      ],
      "source": [
        "# Perform standardization (Z-score normalization)\n",
        "# Standardized value = (x - mean) / standard deviation\n",
        "# We can use the previously calculated mean_salaries and sample_stdev_manual\n",
        "standardized_salaries = [(x - mean_salaries) / sample_stdev_manual for x in salaries]\n",
        "\n",
        "print(\"Standardized Salaries:\")\n",
        "print(standardized_salaries)"
      ]
    },
    {
      "cell_type": "markdown",
      "metadata": {
        "id": "z7lNo80NsETF"
      },
      "source": [
        "## Exercise 8: Calculating covariance and correlation\n",
        "### covariance"
      ]
    },
    {
      "cell_type": "code",
      "execution_count": 14,
      "metadata": {
        "id": "QyycpmPesETF"
      },
      "outputs": [],
      "source": []
    },
    {
      "cell_type": "markdown",
      "metadata": {
        "id": "SwEfON7xsETF"
      },
      "source": [
        "### Pearson correlation coefficient ($\\rho$)"
      ]
    },
    {
      "cell_type": "code",
      "execution_count": 14,
      "metadata": {
        "id": "-7h7FvAisETF"
      },
      "outputs": [],
      "source": []
    }
  ],
  "metadata": {
    "kernelspec": {
      "display_name": "Python 3 (ipykernel)",
      "language": "python",
      "name": "python3"
    },
    "language_info": {
      "codemirror_mode": {
        "name": "ipython",
        "version": 3
      },
      "file_extension": ".py",
      "mimetype": "text/x-python",
      "name": "python",
      "nbconvert_exporter": "python",
      "pygments_lexer": "ipython3",
      "version": "3.9.16"
    },
    "colab": {
      "provenance": [],
      "include_colab_link": true
    }
  },
  "nbformat": 4,
  "nbformat_minor": 0
}