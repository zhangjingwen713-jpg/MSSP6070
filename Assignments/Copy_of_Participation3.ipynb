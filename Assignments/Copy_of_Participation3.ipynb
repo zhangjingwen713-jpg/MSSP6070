{
  "nbformat": 4,
  "nbformat_minor": 0,
  "metadata": {
    "colab": {
      "provenance": []
    },
    "kernelspec": {
      "name": "python3",
      "display_name": "Python 3"
    },
    "language_info": {
      "name": "python"
    }
  },
  "cells": [
    {
      "cell_type": "markdown",
      "source": [
        "a.When does the code in a function execute: when the function is defined or called?"
      ],
      "metadata": {
        "id": "_5gBmnD6oLtn"
      }
    },
    {
      "cell_type": "markdown",
      "source": [
        "When the function is called, the code in a function will execute."
      ],
      "metadata": {
        "id": "onXCpcf2oNMb"
      }
    },
    {
      "cell_type": "markdown",
      "source": [
        "b. How many global scopes are there in a Python program? How many local scopes?"
      ],
      "metadata": {
        "id": "riggPeXopRyT"
      }
    },
    {
      "cell_type": "markdown",
      "source": [
        "There is one global scope in Python. The number of local scope is not fixed. There can be many local scopes in Python."
      ],
      "metadata": {
        "id": "LVEiqNL-pcZY"
      }
    },
    {
      "cell_type": "markdown",
      "source": [
        "c. What happens to variables in a local scope when the function call returns?"
      ],
      "metadata": {
        "id": "3DwZMdWPpj5N"
      }
    },
    {
      "cell_type": "markdown",
      "source": [
        "When the function call returns, the variables in a local scope will be destroyed."
      ],
      "metadata": {
        "id": "a54Hm6xqpypk"
      }
    },
    {
      "cell_type": "markdown",
      "source": [
        "d. How can you prevent a program from crashing when it gets an error?"
      ],
      "metadata": {
        "id": "FGVKChlXp6pK"
      }
    },
    {
      "cell_type": "markdown",
      "source": [
        "Add try and except statement to prevent a program from crashing when it gets an error."
      ],
      "metadata": {
        "id": "sV8tVNqBp9li"
      }
    },
    {
      "cell_type": "markdown",
      "source": [
        "The Collatz Sequence Project"
      ],
      "metadata": {
        "id": "rJren2jwq7VV"
      }
    },
    {
      "cell_type": "code",
      "source": [
        "def collatz(number):\n",
        "    if number % 2 == 0:\n",
        "        result = number // 2\n",
        "        print(result)\n",
        "        return result\n",
        "    else:\n",
        "        result = 3 * number + 1\n",
        "        print(result)\n",
        "        return result\n",
        "\n",
        "print('Type in an integer:')\n",
        "number = int(input())\n",
        "while number != 1:\n",
        "  number = collatz(number)"
      ],
      "metadata": {
        "colab": {
          "base_uri": "https://localhost:8080/"
        },
        "id": "WGRSCbTcrAUg",
        "outputId": "b7ca7696-1f53-4a71-aeae-fce09a507bed"
      },
      "execution_count": null,
      "outputs": [
        {
          "output_type": "stream",
          "name": "stdout",
          "text": [
            "Type in an integer:\n",
            "6\n",
            "3\n",
            "10\n",
            "5\n",
            "16\n",
            "8\n",
            "4\n",
            "2\n",
            "1\n"
          ]
        }
      ]
    }
  ]
}