{
  "nbformat": 4,
  "nbformat_minor": 0,
  "metadata": {
    "colab": {
      "provenance": []
    },
    "kernelspec": {
      "name": "python3",
      "display_name": "Python 3"
    },
    "language_info": {
      "name": "python"
    }
  },
  "cells": [
    {
      "cell_type": "markdown",
      "source": [
        "Solutions Set for PARTICIAPTION ACTIVITY: Storing Values In Lists"
      ],
      "metadata": {
        "id": "q2vbxemm0wVI"
      }
    },
    {
      "cell_type": "code",
      "source": [
        "#Question 2\n",
        "spam = [2, 4, 6, 8, 10]\n",
        "spam"
      ],
      "metadata": {
        "colab": {
          "base_uri": "https://localhost:8080/"
        },
        "id": "_PSGVneV09iC",
        "outputId": "61bfe5f7-2b11-4564-9a16-b7c68e7bf8ed"
      },
      "execution_count": 1,
      "outputs": [
        {
          "output_type": "execute_result",
          "data": {
            "text/plain": [
              "[2, 4, 6, 8, 10]"
            ]
          },
          "metadata": {},
          "execution_count": 1
        }
      ]
    },
    {
      "cell_type": "code",
      "source": [
        "spam[2] = 'hello'\n",
        "spam"
      ],
      "metadata": {
        "colab": {
          "base_uri": "https://localhost:8080/"
        },
        "id": "7Gak67OJ8Cal",
        "outputId": "f93afc17-6267-4500-fc8e-3f7170044992"
      },
      "execution_count": 2,
      "outputs": [
        {
          "output_type": "execute_result",
          "data": {
            "text/plain": [
              "[2, 4, 'hello', 8, 10]"
            ]
          },
          "metadata": {},
          "execution_count": 2
        }
      ]
    },
    {
      "cell_type": "code",
      "source": [
        "#Question 3\n",
        "letters = ['a','b','c','d']\n",
        "letters"
      ],
      "metadata": {
        "colab": {
          "base_uri": "https://localhost:8080/"
        },
        "id": "zb5oQMJl1PhB",
        "outputId": "4e5435ff-4d73-4c9d-ccbd-ce1795721d0d"
      },
      "execution_count": 3,
      "outputs": [
        {
          "output_type": "execute_result",
          "data": {
            "text/plain": [
              "['a', 'b', 'c', 'd']"
            ]
          },
          "metadata": {},
          "execution_count": 3
        }
      ]
    },
    {
      "cell_type": "code",
      "source": [
        "letters[int(int('3'*2)//11)]"
      ],
      "metadata": {
        "colab": {
          "base_uri": "https://localhost:8080/",
          "height": 35
        },
        "id": "byls9VcH1xw3",
        "outputId": "f5e4dcab-b549-431e-d093-e239063fb1bd"
      },
      "execution_count": 4,
      "outputs": [
        {
          "output_type": "execute_result",
          "data": {
            "text/plain": [
              "'d'"
            ],
            "application/vnd.google.colaboratory.intrinsic+json": {
              "type": "string"
            }
          },
          "metadata": {},
          "execution_count": 4
        }
      ]
    },
    {
      "cell_type": "markdown",
      "source": [
        "In order of precedence:\n",
        "1.\t‘3’ * 2 evaluates to the string of characters ‘33’ since the * operator repeats the string of charactrs the number of times of the operand 2.\n",
        "a.\tFor example: ‘richard’*2 evaluates to ‘richardrichard’\n",
        "2.\tThe int function converts the string ’33’ to an integer.\n",
        "3.\tThe modular operator // returns the integer division/floored quotient results from the operation.  In this case the integer 3 from the operation int(‘3’*2)//11.\n",
        "4.\tThe statement int(int(‘3’*2)//11) evaluates the integer 3 due to the conversion from the int function again.\n",
        "5.\tletters[3] evaluates to ’d’ because the slicing indexes are 0,1,2,3 and letters[3] indexes the fourth location in the list with the index of 3 which contains the character ‘d’.\n"
      ],
      "metadata": {
        "id": "kqhFRlqc3SlY"
      }
    },
    {
      "cell_type": "code",
      "source": [
        "letters[-1]  #Slices the string moving right to left from the end of the variable to the first location."
      ],
      "metadata": {
        "colab": {
          "base_uri": "https://localhost:8080/",
          "height": 35
        },
        "id": "siPbVRAtMG33",
        "outputId": "4df91359-a95c-42cf-da46-39a2ac3342cb"
      },
      "execution_count": 13,
      "outputs": [
        {
          "output_type": "execute_result",
          "data": {
            "text/plain": [
              "'d'"
            ],
            "application/vnd.google.colaboratory.intrinsic+json": {
              "type": "string"
            }
          },
          "metadata": {},
          "execution_count": 13
        }
      ]
    },
    {
      "cell_type": "code",
      "source": [
        "letters[:2] #Slices the tuple from index 0 two locations."
      ],
      "metadata": {
        "colab": {
          "base_uri": "https://localhost:8080/"
        },
        "id": "Jrs_q8H4M40q",
        "outputId": "09f4ab4f-e2b5-4fee-f5b4-5ca3b8d2c24e"
      },
      "execution_count": 14,
      "outputs": [
        {
          "output_type": "execute_result",
          "data": {
            "text/plain": [
              "['a', 'b']"
            ]
          },
          "metadata": {},
          "execution_count": 14
        }
      ]
    },
    {
      "cell_type": "markdown",
      "source": [],
      "metadata": {
        "id": "4hWqsS52MN3Y"
      }
    },
    {
      "cell_type": "code",
      "source": [
        "#Question 4\n",
        "listvalues = [1,2,3,4,5]\n",
        "listvalues"
      ],
      "metadata": {
        "colab": {
          "base_uri": "https://localhost:8080/"
        },
        "id": "omw_tPfP2Z-X",
        "outputId": "e20cc12d-40bc-4a42-95c9-eed8238fa0d7"
      },
      "execution_count": 5,
      "outputs": [
        {
          "output_type": "execute_result",
          "data": {
            "text/plain": [
              "[1, 2, 3, 4, 5]"
            ]
          },
          "metadata": {},
          "execution_count": 5
        }
      ]
    },
    {
      "cell_type": "code",
      "source": [
        "tuplevalues = tuple(listvalues) #Explicity convert a list to a tuple using the tuple function\n",
        "tuplevalues"
      ],
      "metadata": {
        "colab": {
          "base_uri": "https://localhost:8080/"
        },
        "id": "UymHikVS9TfY",
        "outputId": "f8e69984-8d88-47d8-ea7f-dfc38b0b16b6"
      },
      "execution_count": 6,
      "outputs": [
        {
          "output_type": "execute_result",
          "data": {
            "text/plain": [
              "(1, 2, 3, 4, 5)"
            ]
          },
          "metadata": {},
          "execution_count": 6
        }
      ]
    },
    {
      "cell_type": "code",
      "source": [
        "listvalues = list(tuplevalues) #Explicity convert a tuple to a list using the list function\n",
        "listvalues"
      ],
      "metadata": {
        "colab": {
          "base_uri": "https://localhost:8080/"
        },
        "id": "cmTVpHDf9_CE",
        "outputId": "f305cbe1-c856-4f4c-8bc6-9b86772f813d"
      },
      "execution_count": 7,
      "outputs": [
        {
          "output_type": "execute_result",
          "data": {
            "text/plain": [
              "[1, 2, 3, 4, 5]"
            ]
          },
          "metadata": {},
          "execution_count": 7
        }
      ]
    },
    {
      "cell_type": "code",
      "source": [
        "#Question 5\n",
        "spam = ['apples', 'bananas', 'tofu', 'cats']\n",
        "spam2 = [1,2,3,4,5,6,7,8,9,10]\n",
        "spam3 = ['Nothing']\n",
        "spam4 = [1,'Hello', 3, 'Tuple', 10, 'Richard']\n",
        "spam5 = []\n",
        "def addcomma(anylist):\n",
        "  newlist =''\n",
        "  if len(anylist) > 0:\n",
        "    for i in range(len(anylist)-1):\n",
        "      newlist += str(anylist[i]) + ', '\n",
        "    else:\n",
        "      newlist += 'and ' + str(anylist[-1])\n",
        "  else:\n",
        "    newlist='Empty'\n",
        "  return(newlist)\n",
        "\n",
        "print('The list contains: ' + str(addcomma(spam))+'.')\n",
        "print('The list contains: ' + str(addcomma(spam2))+'.')\n",
        "print('The list contains: ' + str(addcomma(spam3))+'.')\n",
        "print('The list contains: ' + str(addcomma(spam4))+'.')\n",
        "print('The list contains: ' + str(addcomma(spam5))+'.')"
      ],
      "metadata": {
        "colab": {
          "base_uri": "https://localhost:8080/"
        },
        "id": "H8dN7p7p-dog",
        "outputId": "be546e14-47b8-470f-909d-78eb5ee7acf0"
      },
      "execution_count": 8,
      "outputs": [
        {
          "output_type": "stream",
          "name": "stdout",
          "text": [
            "The list contains: apples, bananas, tofu, and cats.\n",
            "The list contains: 1, 2, 3, 4, 5, 6, 7, 8, 9, and 10.\n",
            "The list contains: and Nothing.\n",
            "The list contains: 1, Hello, 3, Tuple, 10, and Richard.\n",
            "The list contains: Empty.\n"
          ]
        }
      ]
    },
    {
      "cell_type": "code",
      "source": [
        "#Question 5\n",
        "spam = ['apples', 'bananas', 'tofu', 'cats']\n",
        "spam2 = [1,2,3,4,5,6,7,8,9,10]\n",
        "spam3 = ['Nothing']\n",
        "spam4 = [1,'Hello', 3, 'Tuple', 10, 'Richard']\n",
        "spam5 = []\n",
        "def addcomma(anylist):\n",
        "  newlist =''\n",
        "  if len(anylist) > 0:\n",
        "    for index,item in enumerate(anylist[0:(len(anylist)-1)]):\n",
        "      newlist += str(anylist[index]) + ', '\n",
        "    else:\n",
        "      newlist += 'and ' + str(anylist[-1])\n",
        "  else:\n",
        "    newlist= 'Empty'\n",
        "  return(newlist)\n",
        "\n",
        "\n",
        "print('The list contains: ' + str(addcomma(spam))+'.')\n",
        "print('The list contains: ' + str(addcomma(spam2))+'.')\n",
        "print('The list contains: ' + str(addcomma(spam3))+'.')\n",
        "print('The list contains: ' + str(addcomma(spam4))+'.')\n",
        "print('The list contains: ' + str(addcomma(spam5))+'.')"
      ],
      "metadata": {
        "colab": {
          "base_uri": "https://localhost:8080/"
        },
        "id": "wQ3AR9pSsSPF",
        "outputId": "d4e57702-b5fd-46e7-de7d-fed82f729e62"
      },
      "execution_count": 9,
      "outputs": [
        {
          "output_type": "stream",
          "name": "stdout",
          "text": [
            "The list contains: apples, bananas, tofu, and cats.\n",
            "The list contains: 1, 2, 3, 4, 5, 6, 7, 8, 9, and 10.\n",
            "The list contains: and Nothing.\n",
            "The list contains: 1, Hello, 3, Tuple, 10, and Richard.\n",
            "The list contains: Empty.\n"
          ]
        }
      ]
    },
    {
      "cell_type": "code",
      "source": [
        "#Question 5\n",
        "spam = ['apples', 'bananas', 'tofu', 'cats']\n",
        "spam2 = [1,2,3,4,5,6,7,8,9,10]\n",
        "spam3 = ['Nothing']\n",
        "spam4 = [1,'Hello', 3, 'Tuple', 10, 'Richard']\n",
        "spam5 = []\n",
        "def addcomma(anylist):\n",
        "  newlist =''\n",
        "  if len(anylist) > 0:\n",
        "    for index,item in enumerate(anylist[0:(len(anylist)-1)]):\n",
        "      newlist += str(anylist[index]) + ', '\n",
        "    newlist += 'and ' + str(anylist[-1])\n",
        "  else:\n",
        "    newlist= 'Empty'\n",
        "  return(newlist)\n",
        "\n",
        "print('The list contains: ' + str(addcomma(spam))+'.')\n",
        "print('The list contains: ' + str(addcomma(spam2))+'.')\n",
        "print('The list contains: ' + str(addcomma(spam3))+'.')\n",
        "print('The list contains: ' + str(addcomma(spam4))+'.')\n",
        "print('The list contains: ' + str(addcomma(spam5))+'.')"
      ],
      "metadata": {
        "colab": {
          "base_uri": "https://localhost:8080/"
        },
        "id": "6x6KFBMvVeTN",
        "outputId": "a801f9c0-5ffb-4083-b5c3-fb9ba468293d"
      },
      "execution_count": 10,
      "outputs": [
        {
          "output_type": "stream",
          "name": "stdout",
          "text": [
            "The list contains: apples, bananas, tofu, and cats.\n",
            "The list contains: 1, 2, 3, 4, 5, 6, 7, 8, 9, and 10.\n",
            "The list contains: and Nothing.\n",
            "The list contains: 1, Hello, 3, Tuple, 10, and Richard.\n",
            "The list contains: Empty.\n"
          ]
        }
      ]
    }
  ]
}