{
  "cells": [
    {
      "cell_type": "markdown",
      "metadata": {
        "id": "LBfuGbPHegi6"
      },
      "source": [
        "# Solutions\n",
        "## Thought exercises\n",
        "1. Explore the Jupyter Lab interface and look at some of the shortcuts available. Don't worry about memorizing them now (eventually they will become second nature and save you a lot of time), just get comfortable using notebooks.\n",
        "2. Are all data normally distributed?\n",
        "> No. Even data that might appear to be normally distributed could belong to a different distribution. There are tests to check for normality, but this is beyond the scope of this book. You can read more [here](https://machinelearningmastery.com/a-gentle-introduction-to-normality-tests-in-python/).\n",
        "3. When would it make more sense to use the median instead of the mean for the measure of center?\n",
        "> When your data has outliers, it may make more sense to use the median over the mean as your measure of center.\n",
        "\n",
        "## Coding exercises\n",
        "### Exercise 4: Generate the data"
      ]
    },
    {
      "cell_type": "code",
      "execution_count": null,
      "metadata": {
        "id": "N16e2zKdegi7"
      },
      "outputs": [],
      "source": [
        "import random\n",
        "random.seed(0)\n",
        "salaries = [round(random.random()*1000000, -3) for _ in range(100)]"
      ]
    },
    {
      "cell_type": "markdown",
      "metadata": {
        "id": "NjKy01Q7egi7"
      },
      "source": [
        "### Exercise 5: Calculating statistics and verifying\n",
        "#### mean"
      ]
    },
    {
      "cell_type": "code",
      "execution_count": null,
      "metadata": {
        "id": "Sgxo7Xahegi7",
        "outputId": "efaa778e-fcab-4a62-9df3-ca7a71c56245"
      },
      "outputs": [
        {
          "data": {
            "text/plain": [
              "True"
            ]
          },
          "execution_count": 2,
          "metadata": {},
          "output_type": "execute_result"
        }
      ],
      "source": [
        "from statistics import mean\n",
        "\n",
        "sum(salaries)/len(salaries) == mean(salaries)"
      ]
    },
    {
      "cell_type": "markdown",
      "metadata": {
        "id": "qoqAuJxTegi8"
      },
      "source": [
        "#### median"
      ]
    },
    {
      "cell_type": "code",
      "execution_count": null,
      "metadata": {
        "id": "VzLG1Sz6egi8"
      },
      "outputs": [],
      "source": [
        "import math\n",
        "\n",
        "def find_median(x):\n",
        "    x.sort()\n",
        "    midpoint = (len(x) + 1) / 2 - 1 # subtract 1 bc index starts at 0\n",
        "    if len(x) % 2:\n",
        "        # x has odd number of values\n",
        "        return x[int(midpoint)]\n",
        "    else:\n",
        "        return (x[math.floor(midpoint)] + x[math.ceil(midpoint)]) / 2"
      ]
    },
    {
      "cell_type": "code",
      "execution_count": null,
      "metadata": {
        "id": "oOniqSf8egi8",
        "outputId": "c253c6b0-135c-41d9-f6e9-5c5e391bb2c1"
      },
      "outputs": [
        {
          "data": {
            "text/plain": [
              "True"
            ]
          },
          "execution_count": 4,
          "metadata": {},
          "output_type": "execute_result"
        }
      ],
      "source": [
        "from statistics import median\n",
        "\n",
        "find_median(salaries) == median(salaries)"
      ]
    },
    {
      "cell_type": "markdown",
      "metadata": {
        "id": "agz5XcX_egi8"
      },
      "source": [
        "#### mode"
      ]
    },
    {
      "cell_type": "code",
      "execution_count": null,
      "metadata": {
        "id": "lfpn9X4uegi8",
        "outputId": "83ee90c0-4f9c-4423-abdc-0e28875a1cd2"
      },
      "outputs": [
        {
          "data": {
            "text/plain": [
              "True"
            ]
          },
          "execution_count": 5,
          "metadata": {},
          "output_type": "execute_result"
        }
      ],
      "source": [
        "from statistics import mode\n",
        "from collections import Counter\n",
        "\n",
        "Counter(salaries).most_common(1)[0][0] == mode(salaries)"
      ]
    },
    {
      "cell_type": "markdown",
      "metadata": {
        "id": "QhQ3sB7Kegi8"
      },
      "source": [
        "#### sample variance\n",
        "Remember to use Bessel's correction."
      ]
    },
    {
      "cell_type": "code",
      "execution_count": null,
      "metadata": {
        "id": "8LR1wlRSegi9",
        "outputId": "42525015-e574-41e4-cc32-b131bf35483e"
      },
      "outputs": [
        {
          "data": {
            "text/plain": [
              "True"
            ]
          },
          "execution_count": 6,
          "metadata": {},
          "output_type": "execute_result"
        }
      ],
      "source": [
        "from statistics import variance\n",
        "\n",
        "sum([(x - sum(salaries)/len(salaries))**2 for x in salaries])/(len(salaries) - 1) == variance(salaries)"
      ]
    },
    {
      "cell_type": "markdown",
      "metadata": {
        "id": "tLkpyM3Legi9"
      },
      "source": [
        "#### sample standard deviation\n",
        "Remember to use Bessel's correction."
      ]
    },
    {
      "cell_type": "code",
      "execution_count": null,
      "metadata": {
        "id": "fkv20Q4Jegi9",
        "outputId": "cd0793d1-013c-42b0-e425-19dfecdc150d"
      },
      "outputs": [
        {
          "data": {
            "text/plain": [
              "True"
            ]
          },
          "execution_count": 7,
          "metadata": {},
          "output_type": "execute_result"
        }
      ],
      "source": [
        "from statistics import stdev\n",
        "import math\n",
        "\n",
        "math.sqrt(sum([(x - sum(salaries)/len(salaries))**2 for x in salaries])/(len(salaries) - 1)) == stdev(salaries)"
      ]
    },
    {
      "cell_type": "markdown",
      "metadata": {
        "id": "4P0wswdCegi9"
      },
      "source": [
        "### Exercise 6: Calculating more statistics\n",
        "#### range"
      ]
    },
    {
      "cell_type": "code",
      "execution_count": null,
      "metadata": {
        "id": "-lypIiZ3egi9",
        "outputId": "a3376ef8-27f5-4e18-84e3-43e6c19ffc6f"
      },
      "outputs": [
        {
          "data": {
            "text/plain": [
              "995000.0"
            ]
          },
          "execution_count": 8,
          "metadata": {},
          "output_type": "execute_result"
        }
      ],
      "source": [
        "max(salaries) - min(salaries)"
      ]
    },
    {
      "cell_type": "markdown",
      "metadata": {
        "id": "ILrX2uh6egi9"
      },
      "source": [
        "#### coefficient of variation"
      ]
    },
    {
      "cell_type": "code",
      "execution_count": null,
      "metadata": {
        "id": "qaD81AUIegi9",
        "outputId": "df11d805-9341-478a-e5db-9210d6b40ae7"
      },
      "outputs": [
        {
          "data": {
            "text/plain": [
              "0.45386998894439035"
            ]
          },
          "execution_count": 9,
          "metadata": {},
          "output_type": "execute_result"
        }
      ],
      "source": [
        "from statistics import mean, stdev\n",
        "\n",
        "stdev(salaries)/mean(salaries)"
      ]
    },
    {
      "cell_type": "markdown",
      "metadata": {
        "id": "cppqRlOeegi9"
      },
      "source": [
        "#### interquartile range"
      ]
    },
    {
      "cell_type": "code",
      "execution_count": null,
      "metadata": {
        "id": "AvhVfV3Tegi9"
      },
      "outputs": [],
      "source": [
        "import math\n",
        "def quantile(x, pct):\n",
        "    x.sort()\n",
        "    index = (len(x) + 1) * pct - 1\n",
        "    if len(x) % 2:\n",
        "        # odd, so grab the value at index\n",
        "        return x[int(index)]\n",
        "    else:\n",
        "        return (x[math.floor(index)] + x[math.ceil(index)]) / 2"
      ]
    },
    {
      "cell_type": "code",
      "execution_count": null,
      "metadata": {
        "id": "D1_Q-JZnegi9",
        "outputId": "d454a622-d9ed-47aa-ecca-faa0f24b13ab"
      },
      "outputs": [
        {
          "data": {
            "text/plain": [
              "True"
            ]
          },
          "execution_count": 11,
          "metadata": {},
          "output_type": "execute_result"
        }
      ],
      "source": [
        "sum([x < quantile(salaries, 0.25) for x in salaries]) / len(salaries) == 0.25"
      ]
    },
    {
      "cell_type": "code",
      "execution_count": null,
      "metadata": {
        "id": "yEpYyklLegi9",
        "outputId": "2639c730-4ea7-4244-bab6-a47a05d032de"
      },
      "outputs": [
        {
          "data": {
            "text/plain": [
              "True"
            ]
          },
          "execution_count": 12,
          "metadata": {},
          "output_type": "execute_result"
        }
      ],
      "source": [
        "sum([x < quantile(salaries, 0.75) for x in salaries]) / len(salaries) == 0.75"
      ]
    },
    {
      "cell_type": "code",
      "execution_count": null,
      "metadata": {
        "id": "TjLioQz9egi9",
        "outputId": "1be43d88-e05d-4b75-9cfc-ef51f2c67c6a"
      },
      "outputs": [
        {
          "data": {
            "text/plain": [
              "417500.0"
            ]
          },
          "execution_count": 13,
          "metadata": {},
          "output_type": "execute_result"
        }
      ],
      "source": [
        "q3, q1 = quantile(salaries, 0.75), quantile(salaries, 0.25)\n",
        "iqr = q3 - q1\n",
        "iqr"
      ]
    },
    {
      "cell_type": "markdown",
      "metadata": {
        "id": "zw0pNfLaegi-"
      },
      "source": [
        "#### quartile coefficent of dispersion"
      ]
    },
    {
      "cell_type": "code",
      "execution_count": null,
      "metadata": {
        "id": "Lc-cGvFgegi-",
        "outputId": "a1b1078f-cb8d-4b49-fe7b-dd02b9c2b771"
      },
      "outputs": [
        {
          "data": {
            "text/plain": [
              "0.3417928776094965"
            ]
          },
          "execution_count": 14,
          "metadata": {},
          "output_type": "execute_result"
        }
      ],
      "source": [
        "iqr / (q1 + q3)"
      ]
    },
    {
      "cell_type": "markdown",
      "metadata": {
        "id": "u5UB__wVegi-"
      },
      "source": [
        "### Exercise 7: Scaling data\n",
        "#### min-max scaling"
      ]
    },
    {
      "cell_type": "code",
      "execution_count": null,
      "metadata": {
        "id": "cl46Vuxhegi-",
        "outputId": "714913a8-0893-4519-86c8-9062aa7c7714"
      },
      "outputs": [
        {
          "data": {
            "text/plain": [
              "[0.0,\n",
              " 0.01306532663316583,\n",
              " 0.07939698492462312,\n",
              " 0.0814070351758794,\n",
              " 0.08944723618090453]"
            ]
          },
          "execution_count": 15,
          "metadata": {},
          "output_type": "execute_result"
        }
      ],
      "source": [
        "min_salary, max_salary = min(salaries), max(salaries)\n",
        "salary_range = max_salary - min_salary\n",
        "\n",
        "min_max_scaled = [(x - min_salary) / salary_range for x in salaries]\n",
        "min_max_scaled[:5]"
      ]
    },
    {
      "cell_type": "markdown",
      "metadata": {
        "id": "Xc0Fw-0gegi-"
      },
      "source": [
        "#### standardizing"
      ]
    },
    {
      "cell_type": "code",
      "execution_count": null,
      "metadata": {
        "id": "w_yFgM8degi-",
        "outputId": "697a9c62-3e79-4812-f0ac-58987872b7af"
      },
      "outputs": [
        {
          "data": {
            "text/plain": [
              "[-2.199512275430514,\n",
              " -2.150608309943509,\n",
              " -1.9023266390094862,\n",
              " -1.8948029520114855,\n",
              " -1.8647082040194827]"
            ]
          },
          "execution_count": 16,
          "metadata": {},
          "output_type": "execute_result"
        }
      ],
      "source": [
        "from statistics import mean, stdev\n",
        "\n",
        "mean_salary, std_salary = mean(salaries), stdev(salaries)\n",
        "\n",
        "standardized = [(x - mean_salary) / std_salary for x in salaries]\n",
        "standardized[:5]"
      ]
    },
    {
      "cell_type": "markdown",
      "metadata": {
        "id": "z-cYatkoegi-"
      },
      "source": [
        "### Exercise 8: Calculating covariance and correlation\n",
        "#### covariance"
      ]
    },
    {
      "cell_type": "code",
      "execution_count": null,
      "metadata": {
        "id": "2myHQ2Sbegi-",
        "outputId": "1068dbff-2f3b-4193-c035-5f92a3af4f41"
      },
      "outputs": [
        {
          "data": {
            "text/plain": [
              "array([[0.07137603, 0.26716293],\n",
              "       [0.26716293, 1.        ]])"
            ]
          },
          "execution_count": 17,
          "metadata": {},
          "output_type": "execute_result"
        }
      ],
      "source": [
        "import numpy as np\n",
        "np.cov(min_max_scaled, standardized)"
      ]
    },
    {
      "cell_type": "code",
      "execution_count": null,
      "metadata": {
        "id": "gXRwhT5Regi-",
        "outputId": "e52b2b0b-1374-41c2-cac9-b51b903fb07b"
      },
      "outputs": [
        {
          "data": {
            "text/plain": [
              "0.26449129918250414"
            ]
          },
          "execution_count": 18,
          "metadata": {},
          "output_type": "execute_result"
        }
      ],
      "source": [
        "from statistics import mean\n",
        "running_total = []\n",
        "for x, y in zip(min_max_scaled, standardized):\n",
        "    running_total.append((x - mean(min_max_scaled)) * (y - mean(standardized)))\n",
        "\n",
        "cov = mean(running_total)\n",
        "cov"
      ]
    },
    {
      "cell_type": "markdown",
      "metadata": {
        "id": "zjdKupq4egi-"
      },
      "source": [
        "#### Pearson correlation coefficient ($\\rho$)"
      ]
    },
    {
      "cell_type": "code",
      "execution_count": null,
      "metadata": {
        "id": "AIsqYUEWegi-",
        "outputId": "c74f6236-2e70-46f2-8680-e1686a3d4573"
      },
      "outputs": [
        {
          "data": {
            "text/plain": [
              "0.9900000000000001"
            ]
          },
          "execution_count": 19,
          "metadata": {},
          "output_type": "execute_result"
        }
      ],
      "source": [
        "from statistics import stdev\n",
        "cov / (stdev(min_max_scaled) * stdev(standardized))"
      ]
    }
  ],
  "metadata": {
    "kernelspec": {
      "display_name": "Python 3",
      "language": "python",
      "name": "python3"
    },
    "language_info": {
      "codemirror_mode": {
        "name": "ipython",
        "version": 3
      },
      "file_extension": ".py",
      "mimetype": "text/x-python",
      "name": "python",
      "nbconvert_exporter": "python",
      "pygments_lexer": "ipython3",
      "version": "3.7.2"
    },
    "colab": {
      "provenance": []
    }
  },
  "nbformat": 4,
  "nbformat_minor": 0
}